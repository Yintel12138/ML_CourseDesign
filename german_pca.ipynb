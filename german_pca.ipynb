{
 "cells": [
  {
   "cell_type": "code",
   "execution_count": 1,
   "metadata": {
    "collapsed": true,
    "pycharm": {
     "name": "#%%\n"
    }
   },
   "outputs": [],
   "source": [
    "# 此文件实现了对Iris数据集的多种分类任务\n",
    "from sklearn.tree import DecisionTreeClassifier, plot_tree\n",
    "from sklearn import datasets\n",
    "from sklearn.model_selection import train_test_split\n",
    "import sklearn.naive_bayes as bayes\n",
    "from sklearn.linear_model import LogisticRegression\n",
    "from sklearn.svm import SVC\n",
    "from sklearn.ensemble import RandomForestClassifier\n",
    "import matplotlib.pyplot as plt\n",
    "from sklearn.model_selection import GridSearchCV\n",
    "from sklearn import metrics\n",
    "from sklearn.decomposition import PCA\n",
    "from sklearn.model_selection import cross_val_predict\n",
    "import numpy as np\n",
    "import pandas as pd\n",
    "import seaborn as sns"
   ]
  },
  {
   "cell_type": "code",
   "execution_count": 2,
   "outputs": [],
   "source": [
    "def model_test(y_test, y_pred, average=\"macro\"):\n",
    "  print(\"Precision:\", metrics.precision_score(y_test, y_pred, average=average))\n",
    "  print(\"Recall:\", metrics.recall_score(y_test, y_pred, average=average))\n",
    "  print(\"f1:\", metrics.f1_score(y_test, y_pred, average=average))\n",
    "\n",
    "\n",
    "def plot_mat(y_test, y_pred):\n",
    "  mat = metrics.confusion_matrix(y_test, y_pred)\n",
    "  sns.heatmap(mat.T, square=True, annot=True, fmt=\"d\", cbar=False)\n",
    "  plt.xlabel('true label')\n",
    "  plt.ylabel('predicted label')"
   ],
   "metadata": {
    "collapsed": false,
    "pycharm": {
     "name": "#%%\n"
    }
   }
  },
  {
   "cell_type": "code",
   "execution_count": 3,
   "outputs": [],
   "source": [
    "# 导入数据集\n",
    "df = pd.read_csv(\"german.csv\", header=None)\n",
    "data = np.array(df)\n",
    "x = data[:, :-1]\n",
    "y = data[:, -1]"
   ],
   "metadata": {
    "collapsed": false,
    "pycharm": {
     "name": "#%%\n"
    }
   }
  },
  {
   "cell_type": "code",
   "execution_count": 4,
   "outputs": [],
   "source": [
    "pca = PCA(n_components=15).fit(x)\n",
    "x = pca.transform(x)\n"
   ],
   "metadata": {
    "collapsed": false,
    "pycharm": {
     "name": "#%%\n"
    }
   }
  },
  {
   "cell_type": "markdown",
   "source": [
    "# 朴素贝叶斯"
   ],
   "metadata": {
    "collapsed": false,
    "pycharm": {
     "name": "#%% md\n"
    }
   }
  },
  {
   "cell_type": "code",
   "execution_count": 5,
   "outputs": [
    {
     "name": "stdout",
     "output_type": "stream",
     "text": [
      "Precision: 0.650952380952381\n",
      "Recall: 0.6966550038462493\n",
      "f1: 0.6622322459162018\n"
     ]
    },
    {
     "data": {
      "text/plain": "<Figure size 432x288 with 1 Axes>",
      "image/png": "[encoded data removed]"
     },
     "metadata": {},
     "output_type": "display_data"
    }
   ],
   "source": [
    "bayes_cls = bayes.GaussianNB()\n",
    "y_pred = cross_val_predict(bayes_cls, x, y, cv=10)\n",
    "model_test(y_pred, y)\n",
    "plot_mat(y_pred, y)"
   ],
   "metadata": {
    "collapsed": false,
    "pycharm": {
     "name": "#%%\n"
    }
   }
  },
  {
   "cell_type": "markdown",
   "source": [
    "# 逻辑回归"
   ],
   "metadata": {
    "collapsed": false,
    "pycharm": {
     "name": "#%% md\n"
    }
   }
  },
  {
   "cell_type": "code",
   "execution_count": 6,
   "outputs": [
    {
     "name": "stdout",
     "output_type": "stream",
     "text": [
      "Precision: 0.6690476190476191\n",
      "Recall: 0.656043956043956\n",
      "f1: 0.6603988603988604\n"
     ]
    },
    {
     "data": {
      "text/plain": "<Figure size 432x288 with 1 Axes>",
      "image/png": "[encoded data removed]"
     },
     "metadata": {},
     "output_type": "display_data"
    }
   ],
   "source": [
    "logistic_cls = LogisticRegression(solver='saga', tol=0.1)\n",
    "y_pred_1 = cross_val_predict(logistic_cls, x, y, cv=10)\n",
    "model_test(y_pred_1, y)\n",
    "plot_mat(y_pred_1, y)"
   ],
   "metadata": {
    "collapsed": false,
    "pycharm": {
     "name": "#%%\n"
    }
   }
  },
  {
   "cell_type": "markdown",
   "source": [],
   "metadata": {
    "collapsed": false,
    "pycharm": {
     "name": "#%% md\n"
    }
   }
  },
  {
   "cell_type": "markdown",
   "source": [
    "# SVM（高斯核）"
   ],
   "metadata": {
    "collapsed": false,
    "pycharm": {
     "name": "#%% md\n"
    }
   }
  },
  {
   "cell_type": "code",
   "execution_count": 7,
   "outputs": [
    {
     "name": "stdout",
     "output_type": "stream",
     "text": [
      "Precision: 0.5538095238095239\n",
      "Recall: 0.7068233399223955\n",
      "f1: 0.527078981212447\n"
     ]
    },
    {
     "data": {
      "text/plain": "<Figure size 432x288 with 1 Axes>",
      "image/png": "[encoded data removed]"
     },
     "metadata": {},
     "output_type": "display_data"
    }
   ],
   "source": [
    "SVC_cls = SVC(kernel=\"rbf\")\n",
    "y_pred_2 = cross_val_predict(SVC_cls, x, y, cv=10)\n",
    "model_test(y_pred_2, y)\n",
    "plot_mat(y_pred_2, y)"
   ],
   "metadata": {
    "collapsed": false,
    "pycharm": {
     "name": "#%%\n"
    }
   }
  },
  {
   "cell_type": "markdown",
   "source": [
    "# SVM（线性核）"
   ],
   "metadata": {
    "collapsed": false,
    "pycharm": {
     "name": "#%% md\n"
    }
   }
  },
  {
   "cell_type": "code",
   "execution_count": 8,
   "outputs": [
    {
     "name": "stdout",
     "output_type": "stream",
     "text": [
      "Precision: 0.6583333333333333\n",
      "Recall: 0.7118171683389075\n",
      "f1: 0.6711299036880433\n"
     ]
    },
    {
     "data": {
      "text/plain": "<Figure size 432x288 with 1 Axes>",
      "image/png": "[encoded data removed]"
     },
     "metadata": {},
     "output_type": "display_data"
    }
   ],
   "source": [
    "SVC_cls_1 = SVC(kernel=\"linear\")\n",
    "y_pred_3 = cross_val_predict(SVC_cls_1, x, y, cv=10)\n",
    "model_test(y_pred_3, y)\n",
    "plot_mat(y_pred_3, y)"
   ],
   "metadata": {
    "collapsed": false,
    "pycharm": {
     "name": "#%%\n"
    }
   }
  },
  {
   "cell_type": "markdown",
   "source": [
    "# 决策树"
   ],
   "metadata": {
    "collapsed": false,
    "pycharm": {
     "name": "#%% md\n"
    }
   }
  },
  {
   "cell_type": "code",
   "execution_count": 9,
   "outputs": [
    {
     "name": "stdout",
     "output_type": "stream",
     "text": [
      "Precision: 0.6397619047619048\n",
      "Recall: 0.6306075587734015\n",
      "f1: 0.6338043367209302\n"
     ]
    },
    {
     "data": {
      "text/plain": "<Figure size 432x288 with 1 Axes>",
      "image/png": "[encoded data removed]"
     },
     "metadata": {},
     "output_type": "display_data"
    }
   ],
   "source": [
    "decision_cls = DecisionTreeClassifier()\n",
    "y_pred_4 = cross_val_predict(decision_cls, x, y, cv=10)\n",
    "model_test(y_pred_4, y)\n",
    "plot_mat(y_pred_4, y)"
   ],
   "metadata": {
    "collapsed": false,
    "pycharm": {
     "name": "#%%\n"
    }
   }
  },
  {
   "cell_type": "markdown",
   "source": [
    "# 随机森林"
   ],
   "metadata": {
    "collapsed": false,
    "pycharm": {
     "name": "#%% md\n"
    }
   }
  },
  {
   "cell_type": "code",
   "execution_count": 10,
   "outputs": [
    {
     "name": "stdout",
     "output_type": "stream",
     "text": [
      "Precision: 0.6195238095238095\n",
      "Recall: 0.6730748014121801\n",
      "f1: 0.6278038774564944\n"
     ]
    },
    {
     "data": {
      "text/plain": "<Figure size 432x288 with 1 Axes>",
      "image/png": "[encoded data removed]"
     },
     "metadata": {},
     "output_type": "display_data"
    }
   ],
   "source": [
    "rand_forest_cls = RandomForestClassifier(n_estimators=10)\n",
    "y_pred_5 = cross_val_predict(rand_forest_cls, x, y, cv=10)\n",
    "model_test(y_pred_5, y)\n",
    "plot_mat(y_pred_5, y)"
   ],
   "metadata": {
    "collapsed": false,
    "pycharm": {
     "name": "#%%\n"
    }
   }
  }
 ],
 "metadata": {
  "kernelspec": {
   "name": "machinel",
   "language": "python",
   "display_name": "machineL"
  },
  "language_info": {
   "codemirror_mode": {
    "name": "ipython",
    "version": 2
   },
   "file_extension": ".py",
   "mimetype": "text/x-python",
   "name": "python",
   "nbconvert_exporter": "python",
   "pygments_lexer": "ipython2",
   "version": "2.7.6"
  }
 },
 "nbformat": 4,
 "nbformat_minor": 0
}