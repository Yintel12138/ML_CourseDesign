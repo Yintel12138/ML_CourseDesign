{
 "cells": [
  {
   "cell_type": "code",
   "execution_count": 2,
   "metadata": {
    "collapsed": true,
    "pycharm": {
     "name": "#%%\n"
    }
   },
   "outputs": [],
   "source": [
    "# 此文件实现了对Iris数据集的多种分类任务\n",
    "from sklearn.tree import DecisionTreeClassifier, plot_tree\n",
    "from sklearn import datasets\n",
    "from sklearn.model_selection import train_test_split\n",
    "import sklearn.naive_bayes as bayes\n",
    "from sklearn.linear_model import LogisticRegression\n",
    "from sklearn.svm import SVC\n",
    "from sklearn.ensemble import RandomForestClassifier\n",
    "import matplotlib.pyplot as plt\n",
    "from sklearn.model_selection import GridSearchCV\n",
    "from sklearn import metrics\n",
    "from sklearn.model_selection import cross_val_predict\n",
    "import numpy as np\n",
    "import pandas as pd\n",
    "import seaborn as sns"
   ]
  },
  {
   "cell_type": "code",
   "execution_count": 3,
   "outputs": [],
   "source": [
    "def model_test(y_test,y_pred,average=\"macro\"):\n",
    "  print(\"Precision:\", metrics.precision_score(y_test, y_pred, average=average))\n",
    "  print(\"Recall:\", metrics.recall_score(y_test, y_pred, average=average))\n",
    "  print(\"f1:\", metrics.f1_score(y_test, y_pred, average=average))\n",
    "\n",
    "def plot_mat(y_test,y_pred):\n",
    "  mat = metrics.confusion_matrix(y_test, y_pred)\n",
    "  sns.heatmap(mat.T, square=True, annot=True, fmt=\"d\", cbar=False)\n",
    "  plt.xlabel('true label')\n",
    "  plt.ylabel('predicted label')"
   ],
   "metadata": {
    "collapsed": false,
    "pycharm": {
     "name": "#%%\n"
    }
   }
  },
  {
   "cell_type": "code",
   "execution_count": 4,
   "outputs": [],
   "source": [
    "# 导入数据集\n",
    "df = pd.read_csv(\"german.csv\", header=None)\n",
    "data = np.array(df)\n",
    "x = data[:, :-1]\n",
    "y = data[:, -1]"
   ],
   "metadata": {
    "collapsed": false,
    "pycharm": {
     "name": "#%%\n"
    }
   }
  },
  {
   "cell_type": "markdown",
   "source": [
    "# 朴素贝叶斯"
   ],
   "metadata": {
    "collapsed": false,
    "pycharm": {
     "name": "#%% md\n"
    }
   }
  },
  {
   "cell_type": "code",
   "execution_count": 5,
   "outputs": [
    {
     "name": "stdout",
     "output_type": "stream",
     "text": [
      "Precision: 0.6985714285714286\n",
      "Recall: 0.6853036847437743\n",
      "f1: 0.6903087277882538\n"
     ]
    },
    {
     "data": {
      "text/plain": "<Figure size 432x288 with 1 Axes>",
      "image/png": "[encoded data removed]"
     },
     "metadata": {},
     "output_type": "display_data"
    }
   ],
   "source": [
    "bayes_cls = bayes.GaussianNB()\n",
    "y_pred = cross_val_predict(bayes_cls,x,y,cv=10)\n",
    "model_test(y_pred,y)\n",
    "plot_mat(y_pred,y)"
   ],
   "metadata": {
    "collapsed": false,
    "pycharm": {
     "name": "#%%\n"
    }
   }
  },
  {
   "cell_type": "markdown",
   "source": [
    "# 逻辑回归"
   ],
   "metadata": {
    "collapsed": false,
    "pycharm": {
     "name": "#%% md\n"
    }
   }
  },
  {
   "cell_type": "code",
   "execution_count": 6,
   "outputs": [
    {
     "name": "stdout",
     "output_type": "stream",
     "text": [
      "Precision: 0.5495238095238095\n",
      "Recall: 0.6736111111111112\n",
      "f1: 0.52309304387544\n"
     ]
    },
    {
     "data": {
      "text/plain": "<Figure size 432x288 with 1 Axes>",
      "image/png": "[encoded data removed]"
     },
     "metadata": {},
     "output_type": "display_data"
    }
   ],
   "source": [
    "logistic_cls = LogisticRegression(solver='saga',tol=0.1)\n",
    "y_pred_1 = cross_val_predict(logistic_cls,x,y,cv=10)\n",
    "model_test(y_pred_1,y)\n",
    "plot_mat(y_pred_1,y)"
   ],
   "metadata": {
    "collapsed": false,
    "pycharm": {
     "name": "#%%\n"
    }
   }
  },
  {
   "cell_type": "markdown",
   "source": [],
   "metadata": {
    "collapsed": false,
    "pycharm": {
     "name": "#%% md\n"
    }
   }
  },
  {
   "cell_type": "markdown",
   "source": [
    "# SVM（高斯核）"
   ],
   "metadata": {
    "collapsed": false,
    "pycharm": {
     "name": "#%% md\n"
    }
   }
  },
  {
   "cell_type": "code",
   "execution_count": 7,
   "outputs": [
    {
     "name": "stdout",
     "output_type": "stream",
     "text": [
      "Precision: 0.5292857142857142\n",
      "Recall: 0.7184026421392805\n",
      "f1: 0.4779530667074118\n"
     ]
    },
    {
     "data": {
      "text/plain": "<Figure size 432x288 with 1 Axes>",
      "image/png": "[encoded data removed]"
     },
     "metadata": {},
     "output_type": "display_data"
    }
   ],
   "source": [
    "SVC_cls = SVC(kernel=\"rbf\")\n",
    "y_pred_2 = cross_val_predict(SVC_cls,x,y,cv=10)\n",
    "model_test(y_pred_2,y)\n",
    "plot_mat(y_pred_2,y)"
   ],
   "metadata": {
    "collapsed": false,
    "pycharm": {
     "name": "#%%\n"
    }
   }
  },
  {
   "cell_type": "markdown",
   "source": [
    "# SVM（线性核）"
   ],
   "metadata": {
    "collapsed": false,
    "pycharm": {
     "name": "#%% md\n"
    }
   }
  },
  {
   "cell_type": "code",
   "execution_count": 8,
   "outputs": [
    {
     "name": "stdout",
     "output_type": "stream",
     "text": [
      "Precision: 0.6795238095238095\n",
      "Recall: 0.7182774033673777\n",
      "f1: 0.6915164429512803\n"
     ]
    },
    {
     "data": {
      "text/plain": "<Figure size 432x288 with 1 Axes>",
      "image/png": "[encoded data removed]"
     },
     "metadata": {},
     "output_type": "display_data"
    }
   ],
   "source": [
    "SVC_cls_1 = SVC(kernel=\"linear\")\n",
    "y_pred_3 = cross_val_predict(SVC_cls_1,x,y,cv=10)\n",
    "model_test(y_pred_3,y)\n",
    "plot_mat(y_pred_3,y)"
   ],
   "metadata": {
    "collapsed": false,
    "pycharm": {
     "name": "#%%\n"
    }
   }
  },
  {
   "cell_type": "markdown",
   "source": [
    "# 决策树"
   ],
   "metadata": {
    "collapsed": false,
    "pycharm": {
     "name": "#%% md\n"
    }
   }
  },
  {
   "cell_type": "code",
   "execution_count": 9,
   "outputs": [
    {
     "name": "stdout",
     "output_type": "stream",
     "text": [
      "Precision: 0.6442857142857144\n",
      "Recall: 0.6397111713605932\n",
      "f1: 0.6417180672446012\n"
     ]
    },
    {
     "data": {
      "text/plain": "<Figure size 432x288 with 1 Axes>",
      "image/png": "[encoded data removed]"
     },
     "metadata": {},
     "output_type": "display_data"
    }
   ],
   "source": [
    "decision_cls = DecisionTreeClassifier()\n",
    "y_pred_4 = cross_val_predict(decision_cls,x,y,cv=10)\n",
    "model_test(y_pred_4,y)\n",
    "plot_mat(y_pred_4,y)"
   ],
   "metadata": {
    "collapsed": false,
    "pycharm": {
     "name": "#%%\n"
    }
   }
  },
  {
   "cell_type": "markdown",
   "source": [
    "# 随机森林"
   ],
   "metadata": {
    "collapsed": false,
    "pycharm": {
     "name": "#%% md\n"
    }
   }
  },
  {
   "cell_type": "code",
   "execution_count": 10,
   "outputs": [
    {
     "name": "stdout",
     "output_type": "stream",
     "text": [
      "Precision: 0.6435714285714286\n",
      "Recall: 0.7051592621071183\n",
      "f1: 0.655484319046227\n"
     ]
    },
    {
     "data": {
      "text/plain": "<Figure size 432x288 with 1 Axes>",
      "image/png": "[encoded data removed]"
     },
     "metadata": {},
     "output_type": "display_data"
    }
   ],
   "source": [
    "rand_forest_cls = RandomForestClassifier(n_estimators=10)\n",
    "y_pred_5 = cross_val_predict(rand_forest_cls,x,y,cv=10)\n",
    "model_test(y_pred_5,y)\n",
    "plot_mat(y_pred_5,y)"
   ],
   "metadata": {
    "collapsed": false,
    "pycharm": {
     "name": "#%%\n"
    }
   }
  }
 ],
 "metadata": {
  "kernelspec": {
   "name": "machinel",
   "language": "python",
   "display_name": "machineL"
  },
  "language_info": {
   "codemirror_mode": {
    "name": "ipython",
    "version": 2
   },
   "file_extension": ".py",
   "mimetype": "text/x-python",
   "name": "python",
   "nbconvert_exporter": "python",
   "pygments_lexer": "ipython2",
   "version": "2.7.6"
  }
 },
 "nbformat": 4,
 "nbformat_minor": 0
}